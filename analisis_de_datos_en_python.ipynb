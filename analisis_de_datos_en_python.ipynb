{
  "nbformat": 4,
  "nbformat_minor": 0,
  "metadata": {
    "colab": {
      "provenance": []
    },
    "kernelspec": {
      "name": "python3",
      "display_name": "Python 3"
    },
    "language_info": {
      "name": "python"
    }
  },
  "cells": [
    {
      "cell_type": "markdown",
      "source": [
        "SEMILLA - SEED\n",
        "\n",
        "*la semilla es un valor base de las cuales randint sacara datos al azar.*\n",
        "\n",
        "\n",
        "para llamar a la semilla: \n",
        "**from numpy.random import seed**\n",
        "\n",
        "\n",
        "para llamar a la funcion random: \n",
        "**from numpy.random import randint**\n",
        "\n",
        "\n",
        "para utilizar randint es de la siguiente forma:\n",
        "randint(**valor_inicial**, **valor_final+1**, **cantidad de valores random**)\n",
        " \n",
        "\n",
        "*en el ejemplo se obtienen 5 valores random  desde el valor cero hasta el 10*\n",
        "\n"
      ],
      "metadata": {
        "id": "NyVQaYxV6mxe"
      }
    },
    {
      "cell_type": "code",
      "execution_count": null,
      "metadata": {
        "colab": {
          "base_uri": "https://localhost:8080/"
        },
        "id": "4DjgJ8dG0gRo",
        "outputId": "126de377-a75b-4848-cb7f-68965f94ca2f"
      },
      "outputs": [
        {
          "output_type": "execute_result",
          "data": {
            "text/plain": [
              "array([3, 6, 5, 4, 8])"
            ]
          },
          "metadata": {},
          "execution_count": 1
        }
      ],
      "source": [
        "from numpy.random import seed\n",
        "from numpy.random import randint\n",
        "\n",
        "semillas = 1234\n",
        "\n",
        "seed(semillas)\n",
        "randint(0,11,5)"
      ]
    },
    {
      "cell_type": "markdown",
      "source": [
        "en el siguiente ejemplo se obtienen 10 valores desde el numero 5 hasta el numero 60"
      ],
      "metadata": {
        "id": "v7czi34o7-tH"
      }
    },
    {
      "cell_type": "code",
      "source": [
        "seed = (semillas)\n",
        "edades = randint(5,61,10)\n",
        "edades\n"
      ],
      "metadata": {
        "colab": {
          "base_uri": "https://localhost:8080/"
        },
        "id": "tTNVO0VO2IoZ",
        "outputId": "65cc25c4-04b8-4c71-c8a4-46afc364178a"
      },
      "execution_count": null,
      "outputs": [
        {
          "output_type": "execute_result",
          "data": {
            "text/plain": [
              "array([20, 54, 28, 46, 31, 35, 48, 35, 49, 31])"
            ]
          },
          "metadata": {},
          "execution_count": 2
        }
      ]
    },
    {
      "cell_type": "markdown",
      "source": [
        "## **moda: **\n",
        "mide cual es el numero mas repetido dentro de un centro de datos.\n",
        "\n",
        "la libreria a usar es:\n",
        "\n",
        "**from statistics as st**\n",
        "\n",
        "generamos un arreglo con numeros que representan edades de 5 personas y sobre este objeto llamaremos a la funcion **st.mode()** de nuestro objeto st de la siguiente forma."
      ],
      "metadata": {
        "id": "mYYv-KrU346u"
      }
    },
    {
      "cell_type": "code",
      "source": [
        "import statistics as st \n",
        "\n",
        "edades = [10, 10, 2, 5, 7]\n",
        "\n",
        "st.mode(edades)"
      ],
      "metadata": {
        "colab": {
          "base_uri": "https://localhost:8080/"
        },
        "id": "-rqNOMTC4pIR",
        "outputId": "b9cff9e5-1278-4418-b4bc-9ea16477a17c"
      },
      "execution_count": null,
      "outputs": [
        {
          "output_type": "execute_result",
          "data": {
            "text/plain": [
              "10"
            ]
          },
          "metadata": {},
          "execution_count": 3
        }
      ]
    },
    {
      "cell_type": "markdown",
      "source": [
        "## **mediana**\n",
        "\n",
        "la mediana es la suma de todos los valores divididos por la cantidad de valores.\n",
        "se le suele llamar:\n",
        "\n",
        "percentil 50\n",
        "cuartantil 0.5\n",
        "\n"
      ],
      "metadata": {
        "id": "D5etDxQp8beo"
      }
    },
    {
      "cell_type": "code",
      "source": [
        "numeros = list(range(1,10))\n",
        "numeros\n"
      ],
      "metadata": {
        "colab": {
          "base_uri": "https://localhost:8080/"
        },
        "id": "9E6ldAXO8vpz",
        "outputId": "7e870078-ec81-429b-bfe8-676a68a968b2"
      },
      "execution_count": null,
      "outputs": [
        {
          "output_type": "execute_result",
          "data": {
            "text/plain": [
              "[1, 2, 3, 4, 5, 6, 7, 8, 9]"
            ]
          },
          "metadata": {},
          "execution_count": 4
        }
      ]
    },
    {
      "cell_type": "markdown",
      "source": [
        "Esta libreria funciona con  numpy\n",
        "y la funcion se llama de la siguiente manera:\n",
        "\n",
        "**from numpy  import quantile**\n",
        "\n",
        "y el comando se le llama asi\n",
        "\n",
        "quantile(numeros, 0.5)\n",
        "\n",
        "revisa el ejemplo\n"
      ],
      "metadata": {
        "id": "1lEePf7-9MWj"
      }
    },
    {
      "cell_type": "code",
      "source": [
        "from numpy import quantile\n",
        "\n",
        "mediana = quantile(numeros,0.5)\n",
        "# numeros = [1, 2, 3, 4, 5, 6, 7, 8, 9]\n",
        "print(\"la mediana de numeros\", mediana)\n",
        "mediana = quantile(numeros, 0.25)\n",
        "print (\"la mediana del 25% es \", mediana)\n",
        "\n",
        "mediana = quantile(numeros, 0.5)\n",
        "print(\"la mediana del 50% es \", mediana)\n",
        "\n",
        "mediana = quantile(numeros, 0.75)\n",
        "print (\"la mediana del 75% es \", mediana)\n",
        "\n"
      ],
      "metadata": {
        "colab": {
          "base_uri": "https://localhost:8080/"
        },
        "id": "Qg14YfV89-hQ",
        "outputId": "6388cded-b637-4143-face-b8f6b67e407c"
      },
      "execution_count": null,
      "outputs": [
        {
          "output_type": "stream",
          "name": "stdout",
          "text": [
            "la mediana de numeros 5.0\n",
            "la mediana del 25% es  3.0\n",
            "la mediana del 50% es  5.0\n",
            "la mediana del 75% es  7.0\n"
          ]
        }
      ]
    },
    {
      "cell_type": "markdown",
      "source": [
        "### **diferentes formas de obtener la mediana**"
      ],
      "metadata": {
        "id": "-q6YiC2aDNQW"
      }
    },
    {
      "cell_type": "code",
      "source": [
        "valores = [1,2,3,4,5,6,7,8,9,10,11,12,13,14,15,16,17,18,19,20]\n",
        "mediana = quantile(valores, 0.5)\n",
        "print (\"la mediana  es \", mediana)\n",
        "\n",
        "mediana = quantile(valores, 0.5, interpolation='lower')\n",
        "print (\"la mediana al mas bajo es \", mediana)\n",
        "\n",
        "mediana = quantile(valores, 0.5, interpolation='higher')\n",
        "print (\"la mediana al mas alto es \", mediana)\n",
        "\n",
        "mediana = quantile(valores, 0.5, interpolation='nearest')\n",
        "print (\"la mediana mas cercana es \", mediana)\n",
        "\n",
        "mediana = quantile(valores, 0.5, interpolation='linear')\n",
        "print (\"la mediana lineal  es \", mediana)\n",
        "\n",
        "mediana = quantile(valores, 0.5, interpolation='midpoint')\n",
        "print (\"la mediana de punto medio es \", mediana)\n",
        "\n"
      ],
      "metadata": {
        "colab": {
          "base_uri": "https://localhost:8080/"
        },
        "id": "ouk90RVoDTbW",
        "outputId": "aaf1bc2c-5f2a-48cb-9497-152e58a77950"
      },
      "execution_count": null,
      "outputs": [
        {
          "output_type": "stream",
          "name": "stdout",
          "text": [
            "la mediana  es  10.5\n",
            "la mediana al mas bajo es  10\n",
            "la mediana al mas alto es  11\n",
            "la mediana mas cercana es  11\n",
            "la mediana lineal  es  10.5\n",
            "la mediana de punto medio es  10.5\n"
          ]
        },
        {
          "output_type": "stream",
          "name": "stderr",
          "text": [
            "<ipython-input-6-2958349ceacb>:5: DeprecationWarning: the `interpolation=` argument to quantile was renamed to `method=`, which has additional options.\n",
            "Users of the modes 'nearest', 'lower', 'higher', or 'midpoint' are encouraged to review the method they. (Deprecated NumPy 1.22)\n",
            "  mediana = quantile(valores, 0.5, interpolation='lower')\n",
            "<ipython-input-6-2958349ceacb>:8: DeprecationWarning: the `interpolation=` argument to quantile was renamed to `method=`, which has additional options.\n",
            "Users of the modes 'nearest', 'lower', 'higher', or 'midpoint' are encouraged to review the method they. (Deprecated NumPy 1.22)\n",
            "  mediana = quantile(valores, 0.5, interpolation='higher')\n",
            "<ipython-input-6-2958349ceacb>:11: DeprecationWarning: the `interpolation=` argument to quantile was renamed to `method=`, which has additional options.\n",
            "Users of the modes 'nearest', 'lower', 'higher', or 'midpoint' are encouraged to review the method they. (Deprecated NumPy 1.22)\n",
            "  mediana = quantile(valores, 0.5, interpolation='nearest')\n",
            "<ipython-input-6-2958349ceacb>:14: DeprecationWarning: the `interpolation=` argument to quantile was renamed to `method=`, which has additional options.\n",
            "Users of the modes 'nearest', 'lower', 'higher', or 'midpoint' are encouraged to review the method they. (Deprecated NumPy 1.22)\n",
            "  mediana = quantile(valores, 0.5, interpolation='linear')\n",
            "<ipython-input-6-2958349ceacb>:17: DeprecationWarning: the `interpolation=` argument to quantile was renamed to `method=`, which has additional options.\n",
            "Users of the modes 'nearest', 'lower', 'higher', or 'midpoint' are encouraged to review the method they. (Deprecated NumPy 1.22)\n",
            "  mediana = quantile(valores, 0.5, interpolation='midpoint')\n"
          ]
        }
      ]
    },
    {
      "cell_type": "markdown",
      "source": [
        "## **PROMEDIO = MEAN = AVERAGE**\n",
        "es la suma de todos los datos divididos por la cantidad\n",
        "\n",
        "utiliza la funcion numpy importando mean:\n",
        "\n",
        "**from numpy import mean**\n",
        "\n",
        "el comando es:\n",
        "\n",
        "mean(variable)\n",
        "\n"
      ],
      "metadata": {
        "id": "ahEY_3YfQfmn"
      }
    },
    {
      "cell_type": "code",
      "source": [
        "from numpy import mean\n",
        "\n",
        "numeros = [15,16,16,17,17,18,19,19,20,21]\n",
        "total= mean(numeros)\n",
        "print (\"promedio de numeros\",total)\n",
        "\n",
        "computador_por_persona = [2,0]\n",
        "\n",
        "total = mean(computador_por_persona)\n",
        "print(\"computadores por persona\", total)"
      ],
      "metadata": {
        "colab": {
          "base_uri": "https://localhost:8080/"
        },
        "id": "ejAr6Tg_Rrh1",
        "outputId": "3be9e5c2-b612-40c3-9a42-b4fa0bab186e"
      },
      "execution_count": null,
      "outputs": [
        {
          "output_type": "stream",
          "name": "stdout",
          "text": [
            "promedio de numeros 17.8\n",
            "computadores por persona 1.0\n"
          ]
        }
      ]
    },
    {
      "cell_type": "markdown",
      "source": [
        "## **DESVIACION ESTANDAR**\n",
        "\n",
        "es la desviacion o tendencia de los datos\n",
        "nos indica la desviacion respecto a la media en el caso de el computador por persona hay personas que pueden tener 2 computadores asi como otra puede tener cero.\n",
        "\n",
        "para llamar a la funcion de desviacion estandar es de la siguiente forma\n",
        "\n",
        "# **from numpy import std**\n",
        "\n",
        "el comando es:\n",
        "\n",
        "# **std(variable)**"
      ],
      "metadata": {
        "id": "uDA1lkJUSq2u"
      }
    },
    {
      "cell_type": "markdown",
      "source": [
        "# **PORCENTAJE Y LIBRERIA PANDAS**\n",
        "\n",
        "es para calcular el porcentaje de los valores \n",
        "\n",
        "para llamar a la funcion es asi:\n",
        "\n",
        "## **import pandas as pd **\n",
        "\n",
        "\n"
      ],
      "metadata": {
        "id": "1oskMhh5WS2R"
      }
    },
    {
      "cell_type": "code",
      "source": [
        "import pandas as pd\n",
        "\n",
        "# definimos el nombre de las filas\n",
        "nombrefilas = [\"sin recompensa\", \"con recompensa\"]\n",
        "\n",
        "# definimos los datos \n",
        "# grupoA = [sin rescompensa,con recompensa]\n",
        "# grupoB = [sin rescompensa,con recompensa]\n",
        "grupo1 = [50,40]\n",
        "grupo2 = [60,70]\n",
        "\n",
        "# agrupamos los datos en un diccionario\n",
        "datos = {\"GRUPO 1\":grupo1,\"GRUPO 2\": grupo2}\n",
        "\n",
        "#agregamos titulo a nuestro dataframe  de la siguiente manera\n",
        "tabla = pd.DataFrame(datos, index = nombrefilas)\n",
        "\n",
        "# mostramos los datos\n",
        "print (datos)\n",
        "print()\n",
        "# mostramos nuestro conjunto de datos\n",
        "print (tabla)\n",
        "print()\n",
        "\n",
        "# la suma de cada grupo\n",
        "sumas = tabla.sum()\n",
        "print()\n",
        "print(\"la suma de cada grupo es  \")\n",
        "print(sumas)\n",
        "print()\n",
        "\n",
        "# la suma de de ambos grupos\n",
        "total = sum(sumas)\n",
        "print(\"el total de personas es\", total)\n",
        "print()\n",
        "\n",
        "#mostrar solo los \"sin recomensa\" \n",
        "\n",
        "sinr = tabla.loc[\"sin recompensa\"]\n",
        "print(\"lista de los sin recompensa\")\n",
        "print(sinr)\n",
        "print()\n",
        "#suma de los sin recompensa\n",
        "suma_sinr = (sum(sinr))\n",
        "print(\"el total de los sin recomensa es:\", suma_sinr)\n",
        "\n",
        "#mostrar solo los \"con recompensa\"\n",
        "print()\n",
        "conr = tabla.loc[\"con recompensa\"]\n",
        "print(\"lista de los con recomensa\")\n",
        "print(conr)\n",
        "print()\n",
        "\n",
        "\n",
        "#suma de los con recompensa\n",
        "suma_conr = (sum(conr))\n",
        "print(\"el total de los con recomensa es: \", suma_conr)\n",
        "print()\n",
        "\n",
        "# obtener el % de los sin recompensa y los con recompensa\n",
        "\n",
        "# (sin recompensa/total)/100\n",
        "porcentaje1= (suma_sinr/total)*100\n",
        "print(\"el porcentaje de personas sin recompensa es :\", porcentaje1)\n",
        "print()\n",
        "\n",
        "# (con recompensa/total)/100\n",
        "porcentaje2= (suma_conr/total)*100\n",
        "print(\"el porcentaje de personas con recompensa es :\", porcentaje2)\n",
        "print()\n"
      ],
      "metadata": {
        "colab": {
          "base_uri": "https://localhost:8080/"
        },
        "id": "RWpWvtM1W6KA",
        "outputId": "5c6f70b8-2ee0-4652-85a0-cab4471fdf68"
      },
      "execution_count": null,
      "outputs": [
        {
          "output_type": "stream",
          "name": "stdout",
          "text": [
            "{'GRUPO 1': [50, 40], 'GRUPO 2': [60, 70]}\n",
            "\n",
            "                GRUPO 1  GRUPO 2\n",
            "sin recompensa       50       60\n",
            "con recompensa       40       70\n",
            "\n",
            "\n",
            "la suma de cada grupo es  \n",
            "GRUPO 1     90\n",
            "GRUPO 2    130\n",
            "dtype: int64\n",
            "\n",
            "el total de personas es 220\n",
            "\n",
            "lista de los sin recompensa\n",
            "GRUPO 1    50\n",
            "GRUPO 2    60\n",
            "Name: sin recompensa, dtype: int64\n",
            "\n",
            "el total de los sin recomensa es: 110\n",
            "\n",
            "lista de los con recomensa\n",
            "GRUPO 1    40\n",
            "GRUPO 2    70\n",
            "Name: con recompensa, dtype: int64\n",
            "\n",
            "el total de los con recomensa es:  110\n",
            "\n",
            "el porcentaje de personas sin recompensa es : 50.0\n",
            "\n",
            "el porcentaje de personas con recompensa es : 50.0\n",
            "\n"
          ]
        }
      ]
    },
    {
      "cell_type": "markdown",
      "source": [
        "### **ACTIVIDAD**"
      ],
      "metadata": {
        "id": "rSDJUNcQijy8"
      }
    },
    {
      "cell_type": "code",
      "source": [
        "\n",
        "#porcentaje de personas grupo1 y 2\n",
        "\n",
        "x = tabla.loc[1, 1]\n",
        "y = tabla.loc[1,2]\n",
        "suma_x = (sum(x)/total)*100\n",
        "suma_y = (sum(y)/total)*100\n",
        "print(\"el % de personas del grupo 1 es\", suma_x)\n",
        "print(\"el % de personas del grupo 2 es\", suma_y)"
      ],
      "metadata": {
        "colab": {
          "base_uri": "https://localhost:8080/",
          "height": 588
        },
        "id": "Y9NPT-CFwXlT",
        "outputId": "35faf529-32d3-44f5-f9de-9607d1125987"
      },
      "execution_count": null,
      "outputs": [
        {
          "output_type": "error",
          "ename": "KeyError",
          "evalue": "ignored",
          "traceback": [
            "\u001b[0;31m---------------------------------------------------------------------------\u001b[0m",
            "\u001b[0;31mKeyError\u001b[0m                                  Traceback (most recent call last)",
            "\u001b[0;32m/usr/local/lib/python3.9/dist-packages/pandas/core/indexes/base.py\u001b[0m in \u001b[0;36mget_loc\u001b[0;34m(self, key, method, tolerance)\u001b[0m\n\u001b[1;32m   3628\u001b[0m             \u001b[0;32mtry\u001b[0m\u001b[0;34m:\u001b[0m\u001b[0;34m\u001b[0m\u001b[0;34m\u001b[0m\u001b[0m\n\u001b[0;32m-> 3629\u001b[0;31m                 \u001b[0;32mreturn\u001b[0m \u001b[0mself\u001b[0m\u001b[0;34m.\u001b[0m\u001b[0m_engine\u001b[0m\u001b[0;34m.\u001b[0m\u001b[0mget_loc\u001b[0m\u001b[0;34m(\u001b[0m\u001b[0mcasted_key\u001b[0m\u001b[0;34m)\u001b[0m\u001b[0;34m\u001b[0m\u001b[0;34m\u001b[0m\u001b[0m\n\u001b[0m\u001b[1;32m   3630\u001b[0m             \u001b[0;32mexcept\u001b[0m \u001b[0mKeyError\u001b[0m \u001b[0;32mas\u001b[0m \u001b[0merr\u001b[0m\u001b[0;34m:\u001b[0m\u001b[0;34m\u001b[0m\u001b[0;34m\u001b[0m\u001b[0m\n",
            "\u001b[0;32m/usr/local/lib/python3.9/dist-packages/pandas/_libs/index.pyx\u001b[0m in \u001b[0;36mpandas._libs.index.IndexEngine.get_loc\u001b[0;34m()\u001b[0m\n",
            "\u001b[0;32m/usr/local/lib/python3.9/dist-packages/pandas/_libs/index.pyx\u001b[0m in \u001b[0;36mpandas._libs.index.IndexEngine.get_loc\u001b[0;34m()\u001b[0m\n",
            "\u001b[0;32mpandas/_libs/hashtable_class_helper.pxi\u001b[0m in \u001b[0;36mpandas._libs.hashtable.PyObjectHashTable.get_item\u001b[0;34m()\u001b[0m\n",
            "\u001b[0;32mpandas/_libs/hashtable_class_helper.pxi\u001b[0m in \u001b[0;36mpandas._libs.hashtable.PyObjectHashTable.get_item\u001b[0;34m()\u001b[0m\n",
            "\u001b[0;31mKeyError\u001b[0m: 1",
            "\nThe above exception was the direct cause of the following exception:\n",
            "\u001b[0;31mKeyError\u001b[0m                                  Traceback (most recent call last)",
            "\u001b[0;32m<ipython-input-24-c2662f098779>\u001b[0m in \u001b[0;36m<module>\u001b[0;34m\u001b[0m\n\u001b[1;32m      1\u001b[0m \u001b[0;31m#porcentaje de personas grupo1 y 2\u001b[0m\u001b[0;34m\u001b[0m\u001b[0;34m\u001b[0m\u001b[0m\n\u001b[1;32m      2\u001b[0m \u001b[0;34m\u001b[0m\u001b[0m\n\u001b[0;32m----> 3\u001b[0;31m \u001b[0mx\u001b[0m \u001b[0;34m=\u001b[0m \u001b[0mtabla\u001b[0m\u001b[0;34m.\u001b[0m\u001b[0mloc\u001b[0m\u001b[0;34m[\u001b[0m\u001b[0;36m1\u001b[0m\u001b[0;34m,\u001b[0m \u001b[0;36m1\u001b[0m\u001b[0;34m]\u001b[0m\u001b[0;34m\u001b[0m\u001b[0;34m\u001b[0m\u001b[0m\n\u001b[0m\u001b[1;32m      4\u001b[0m \u001b[0my\u001b[0m \u001b[0;34m=\u001b[0m \u001b[0mtabla\u001b[0m\u001b[0;34m.\u001b[0m\u001b[0mloc\u001b[0m\u001b[0;34m[\u001b[0m\u001b[0;36m1\u001b[0m\u001b[0;34m,\u001b[0m\u001b[0;36m2\u001b[0m\u001b[0;34m]\u001b[0m\u001b[0;34m\u001b[0m\u001b[0;34m\u001b[0m\u001b[0m\n\u001b[1;32m      5\u001b[0m \u001b[0msuma_x\u001b[0m \u001b[0;34m=\u001b[0m \u001b[0;34m(\u001b[0m\u001b[0msum\u001b[0m\u001b[0;34m(\u001b[0m\u001b[0mx\u001b[0m\u001b[0;34m)\u001b[0m\u001b[0;34m/\u001b[0m\u001b[0mtotal\u001b[0m\u001b[0;34m)\u001b[0m\u001b[0;34m*\u001b[0m\u001b[0;36m100\u001b[0m\u001b[0;34m\u001b[0m\u001b[0;34m\u001b[0m\u001b[0m\n",
            "\u001b[0;32m/usr/local/lib/python3.9/dist-packages/pandas/core/indexing.py\u001b[0m in \u001b[0;36m__getitem__\u001b[0;34m(self, key)\u001b[0m\n\u001b[1;32m    958\u001b[0m             \u001b[0mkey\u001b[0m \u001b[0;34m=\u001b[0m \u001b[0mtuple\u001b[0m\u001b[0;34m(\u001b[0m\u001b[0mcom\u001b[0m\u001b[0;34m.\u001b[0m\u001b[0mapply_if_callable\u001b[0m\u001b[0;34m(\u001b[0m\u001b[0mx\u001b[0m\u001b[0;34m,\u001b[0m \u001b[0mself\u001b[0m\u001b[0;34m.\u001b[0m\u001b[0mobj\u001b[0m\u001b[0;34m)\u001b[0m \u001b[0;32mfor\u001b[0m \u001b[0mx\u001b[0m \u001b[0;32min\u001b[0m \u001b[0mkey\u001b[0m\u001b[0;34m)\u001b[0m\u001b[0;34m\u001b[0m\u001b[0;34m\u001b[0m\u001b[0m\n\u001b[1;32m    959\u001b[0m             \u001b[0;32mif\u001b[0m \u001b[0mself\u001b[0m\u001b[0;34m.\u001b[0m\u001b[0m_is_scalar_access\u001b[0m\u001b[0;34m(\u001b[0m\u001b[0mkey\u001b[0m\u001b[0;34m)\u001b[0m\u001b[0;34m:\u001b[0m\u001b[0;34m\u001b[0m\u001b[0;34m\u001b[0m\u001b[0m\n\u001b[0;32m--> 960\u001b[0;31m                 \u001b[0;32mreturn\u001b[0m \u001b[0mself\u001b[0m\u001b[0;34m.\u001b[0m\u001b[0mobj\u001b[0m\u001b[0;34m.\u001b[0m\u001b[0m_get_value\u001b[0m\u001b[0;34m(\u001b[0m\u001b[0;34m*\u001b[0m\u001b[0mkey\u001b[0m\u001b[0;34m,\u001b[0m \u001b[0mtakeable\u001b[0m\u001b[0;34m=\u001b[0m\u001b[0mself\u001b[0m\u001b[0;34m.\u001b[0m\u001b[0m_takeable\u001b[0m\u001b[0;34m)\u001b[0m\u001b[0;34m\u001b[0m\u001b[0;34m\u001b[0m\u001b[0m\n\u001b[0m\u001b[1;32m    961\u001b[0m             \u001b[0;32mreturn\u001b[0m \u001b[0mself\u001b[0m\u001b[0;34m.\u001b[0m\u001b[0m_getitem_tuple\u001b[0m\u001b[0;34m(\u001b[0m\u001b[0mkey\u001b[0m\u001b[0;34m)\u001b[0m\u001b[0;34m\u001b[0m\u001b[0;34m\u001b[0m\u001b[0m\n\u001b[1;32m    962\u001b[0m         \u001b[0;32melse\u001b[0m\u001b[0;34m:\u001b[0m\u001b[0;34m\u001b[0m\u001b[0;34m\u001b[0m\u001b[0m\n",
            "\u001b[0;32m/usr/local/lib/python3.9/dist-packages/pandas/core/frame.py\u001b[0m in \u001b[0;36m_get_value\u001b[0;34m(self, index, col, takeable)\u001b[0m\n\u001b[1;32m   3613\u001b[0m             \u001b[0;32mreturn\u001b[0m \u001b[0mseries\u001b[0m\u001b[0;34m.\u001b[0m\u001b[0m_values\u001b[0m\u001b[0;34m[\u001b[0m\u001b[0mindex\u001b[0m\u001b[0;34m]\u001b[0m\u001b[0;34m\u001b[0m\u001b[0;34m\u001b[0m\u001b[0m\n\u001b[1;32m   3614\u001b[0m \u001b[0;34m\u001b[0m\u001b[0m\n\u001b[0;32m-> 3615\u001b[0;31m         \u001b[0mseries\u001b[0m \u001b[0;34m=\u001b[0m \u001b[0mself\u001b[0m\u001b[0;34m.\u001b[0m\u001b[0m_get_item_cache\u001b[0m\u001b[0;34m(\u001b[0m\u001b[0mcol\u001b[0m\u001b[0;34m)\u001b[0m\u001b[0;34m\u001b[0m\u001b[0;34m\u001b[0m\u001b[0m\n\u001b[0m\u001b[1;32m   3616\u001b[0m         \u001b[0mengine\u001b[0m \u001b[0;34m=\u001b[0m \u001b[0mself\u001b[0m\u001b[0;34m.\u001b[0m\u001b[0mindex\u001b[0m\u001b[0;34m.\u001b[0m\u001b[0m_engine\u001b[0m\u001b[0;34m\u001b[0m\u001b[0;34m\u001b[0m\u001b[0m\n\u001b[1;32m   3617\u001b[0m \u001b[0;34m\u001b[0m\u001b[0m\n",
            "\u001b[0;32m/usr/local/lib/python3.9/dist-packages/pandas/core/frame.py\u001b[0m in \u001b[0;36m_get_item_cache\u001b[0;34m(self, item)\u001b[0m\n\u001b[1;32m   3929\u001b[0m             \u001b[0;31m#  pending resolution of GH#33047\u001b[0m\u001b[0;34m\u001b[0m\u001b[0;34m\u001b[0m\u001b[0m\n\u001b[1;32m   3930\u001b[0m \u001b[0;34m\u001b[0m\u001b[0m\n\u001b[0;32m-> 3931\u001b[0;31m             \u001b[0mloc\u001b[0m \u001b[0;34m=\u001b[0m \u001b[0mself\u001b[0m\u001b[0;34m.\u001b[0m\u001b[0mcolumns\u001b[0m\u001b[0;34m.\u001b[0m\u001b[0mget_loc\u001b[0m\u001b[0;34m(\u001b[0m\u001b[0mitem\u001b[0m\u001b[0;34m)\u001b[0m\u001b[0;34m\u001b[0m\u001b[0;34m\u001b[0m\u001b[0m\n\u001b[0m\u001b[1;32m   3932\u001b[0m             \u001b[0mres\u001b[0m \u001b[0;34m=\u001b[0m \u001b[0mself\u001b[0m\u001b[0;34m.\u001b[0m\u001b[0m_ixs\u001b[0m\u001b[0;34m(\u001b[0m\u001b[0mloc\u001b[0m\u001b[0;34m,\u001b[0m \u001b[0maxis\u001b[0m\u001b[0;34m=\u001b[0m\u001b[0;36m1\u001b[0m\u001b[0;34m)\u001b[0m\u001b[0;34m\u001b[0m\u001b[0;34m\u001b[0m\u001b[0m\n\u001b[1;32m   3933\u001b[0m \u001b[0;34m\u001b[0m\u001b[0m\n",
            "\u001b[0;32m/usr/local/lib/python3.9/dist-packages/pandas/core/indexes/base.py\u001b[0m in \u001b[0;36mget_loc\u001b[0;34m(self, key, method, tolerance)\u001b[0m\n\u001b[1;32m   3629\u001b[0m                 \u001b[0;32mreturn\u001b[0m \u001b[0mself\u001b[0m\u001b[0;34m.\u001b[0m\u001b[0m_engine\u001b[0m\u001b[0;34m.\u001b[0m\u001b[0mget_loc\u001b[0m\u001b[0;34m(\u001b[0m\u001b[0mcasted_key\u001b[0m\u001b[0;34m)\u001b[0m\u001b[0;34m\u001b[0m\u001b[0;34m\u001b[0m\u001b[0m\n\u001b[1;32m   3630\u001b[0m             \u001b[0;32mexcept\u001b[0m \u001b[0mKeyError\u001b[0m \u001b[0;32mas\u001b[0m \u001b[0merr\u001b[0m\u001b[0;34m:\u001b[0m\u001b[0;34m\u001b[0m\u001b[0;34m\u001b[0m\u001b[0m\n\u001b[0;32m-> 3631\u001b[0;31m                 \u001b[0;32mraise\u001b[0m \u001b[0mKeyError\u001b[0m\u001b[0;34m(\u001b[0m\u001b[0mkey\u001b[0m\u001b[0;34m)\u001b[0m \u001b[0;32mfrom\u001b[0m \u001b[0merr\u001b[0m\u001b[0;34m\u001b[0m\u001b[0;34m\u001b[0m\u001b[0m\n\u001b[0m\u001b[1;32m   3632\u001b[0m             \u001b[0;32mexcept\u001b[0m \u001b[0mTypeError\u001b[0m\u001b[0;34m:\u001b[0m\u001b[0;34m\u001b[0m\u001b[0;34m\u001b[0m\u001b[0m\n\u001b[1;32m   3633\u001b[0m                 \u001b[0;31m# If we have a listlike key, _check_indexing_error will raise\u001b[0m\u001b[0;34m\u001b[0m\u001b[0;34m\u001b[0m\u001b[0m\n",
            "\u001b[0;31mKeyError\u001b[0m: 1"
          ]
        }
      ]
    }
  ]
}